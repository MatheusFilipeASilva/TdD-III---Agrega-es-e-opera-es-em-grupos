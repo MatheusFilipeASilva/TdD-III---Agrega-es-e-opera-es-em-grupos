{
 "cells": [
  {
   "cell_type": "markdown",
   "metadata": {
    "id": "eYvCczy6lTt7"
   },
   "source": [
    "# Livro para consulta:\n",
    "- https://jakevdp.github.io/PythonDataScienceHandbook/03.08-aggregation-and-grouping.html\n",
    "- https://jakevdp.github.io/PythonDataScienceHandbook/03.09-pivot-tables.html\n",
    "    "
   ]
  },
  {
   "cell_type": "markdown",
   "metadata": {
    "id": "oeWprAfnlTt-"
   },
   "source": [
    "# 1. Importando bibliotecas <a name=\"import\"></a>\n",
    "\n",
    "<div style=\"text-align: right\"\n",
    "     \n",
    "[Voltar ao índice](#Contents)"
   ]
  },
  {
   "cell_type": "code",
   "execution_count": 87,
   "metadata": {
    "ExecuteTime": {
     "end_time": "2021-06-06T21:12:37.298706Z",
     "start_time": "2021-06-06T21:12:36.656481Z"
    },
    "id": "y_9gYudilTt_"
   },
   "outputs": [],
   "source": [
    "import numpy as np\n",
    "import pandas as pd\n",
    "import seaborn as sns\n",
    "import matplotlib.pyplot as plt\n",
    "\n",
    "%matplotlib inline\n",
    "\n",
    "\n",
    "def top(df, column = 'QTDFILVIVO', n = 5):\n",
    "    return df.fillna(0).sort_values(by=column, ascending = False)[:n]\n",
    "    "
   ]
  },
  {
   "cell_type": "code",
   "execution_count": null,
   "metadata": {
    "id": "1yNG4iFTlTuA"
   },
   "outputs": [],
   "source": []
  },
  {
   "cell_type": "markdown",
   "metadata": {
    "id": "-cpxC-IBlTuA"
   },
   "source": [
    "# 2. Carregando o dataframe SINASC <a name=\"read\"></a>\n",
    "<div style=\"text-align: right\"\n",
    "     \n",
    "[Voltar ao índice](#Contents)"
   ]
  },
  {
   "cell_type": "code",
   "execution_count": 91,
   "metadata": {
    "ExecuteTime": {
     "end_time": "2021-06-06T21:12:37.762376Z",
     "start_time": "2021-06-06T21:12:37.728383Z"
    },
    "id": "nQZn7u4DlTuB",
    "outputId": "74b44036-69d9-4139-b291-621d77ed331b",
    "scrolled": true
   },
   "outputs": [
    {
     "name": "stdout",
     "output_type": "stream",
     "text": [
      "Index(['ORIGEM', 'CODESTAB', 'CODMUNNASC', 'LOCNASC', 'IDADEMAE', 'ESTCIVMAE',\n",
      "       'ESCMAE', 'CODOCUPMAE', 'QTDFILVIVO', 'QTDFILMORT', 'CODMUNRES',\n",
      "       'GESTACAO', 'GRAVIDEZ', 'PARTO', 'CONSULTAS', 'DTNASC', 'HORANASC',\n",
      "       'SEXO', 'APGAR1', 'APGAR5', 'RACACOR', 'PESO', 'IDANOMAL', 'DTCADASTRO',\n",
      "       'CODANOMAL', 'NUMEROLOTE', 'VERSAOSIST', 'DTRECEBIM', 'DIFDATA',\n",
      "       'DTRECORIGA', 'NATURALMAE', 'CODMUNNATU', 'CODUFNATU', 'ESCMAE2010',\n",
      "       'SERIESCMAE', 'DTNASCMAE', 'RACACORMAE', 'QTDGESTANT', 'QTDPARTNOR',\n",
      "       'QTDPARTCES', 'IDADEPAI', 'DTULTMENST', 'SEMAGESTAC', 'TPMETESTIM',\n",
      "       'CONSPRENAT', 'MESPRENAT', 'TPAPRESENT', 'STTRABPART', 'STCESPARTO',\n",
      "       'TPNASCASSI', 'TPFUNCRESP', 'TPDOCRESP', 'DTDECLARAC', 'ESCMAEAGR1',\n",
      "       'STDNEPIDEM', 'STDNNOVA', 'CODPAISRES', 'TPROBSON', 'PARIDADE',\n",
      "       'KOTELCHUCK', 'CONTADOR', 'munResStatus', 'munResTipo', 'munResNome',\n",
      "       'munResUf', 'munResLat', 'munResLon', 'munResAlt', 'munResArea'],\n",
      "      dtype='object')\n"
     ]
    }
   ],
   "source": [
    "sinasc_raw = pd.read_csv('SINASC_RO_2019.csv')\n",
    "print(sinasc_raw.columns)"
   ]
  },
  {
   "cell_type": "code",
   "execution_count": null,
   "metadata": {
    "id": "X6JmtT08lTuD"
   },
   "outputs": [],
   "source": []
  },
  {
   "cell_type": "markdown",
   "metadata": {
    "id": "9GOoel3-lTuD"
   },
   "source": [
    "# Tarefa 2"
   ]
  },
  {
   "cell_type": "markdown",
   "metadata": {
    "id": "iNNeWswTlTuD"
   },
   "source": [
    "### 1. Crie 2 faixas de Latitude do município (munResLat) sendo uma acima e outra abaixo de -10.5 e aplique o groupby usando essas faixas como chave e realize operações de soma, media, minimo, maximo, mediana, desvio padrao, variancia pra pelo menos 2 variáveis numéricas ainda não utilizadas"
   ]
  },
  {
   "cell_type": "code",
   "execution_count": 96,
   "metadata": {
    "id": "HXtelNbnlTuE"
   },
   "outputs": [
    {
     "name": "stdout",
     "output_type": "stream",
     "text": [
      "-8.76889\n",
      "latitude_munRes\n",
      "acima_de_-10.5     14035\n",
      "abaixo_de_-10.5    12993\n",
      "Name: count, dtype: int64\n",
      "                QTDFILVIVO                                                  \\\n",
      "                       sum      mean       std  min   max       var median   \n",
      "latitude_munRes                                                              \n",
      "abaixo_de_-10.5    12600.0  0.980011  1.138300  0.0  30.0  1.295727    1.0   \n",
      "acima_de_-10.5     14227.0  1.129306  1.198566  0.0  12.0  1.436561    1.0   \n",
      "\n",
      "                IDADEMAE                                                 \n",
      "                     sum       mean       std min max        var median  \n",
      "latitude_munRes                                                          \n",
      "abaixo_de_-10.5   340143  26.178943  6.320385  12  53  39.947272   26.0  \n",
      "acima_de_-10.5    365118  26.014820  6.447455  11  52  41.569682   25.0  \n"
     ]
    }
   ],
   "source": [
    "print(max(sinasc_raw['munResLat']))\n",
    "\n",
    "sinasc_raw['latitude_munRes'] = np.where(sinasc_raw['munResLat'] < -10.5, 'abaixo_de_-10.5', 'acima_de_-10.5')\n",
    "print(sinasc_raw['latitude_munRes'].value_counts())\n",
    "\n",
    "\n",
    "agg_funcs = {'QTDFILVIVO': ['sum', 'mean', 'std', 'min', 'max', 'var', 'median'],\n",
    "           'IDADEMAE': ['sum', 'mean', 'std', 'min', 'max', 'var', 'median']}\n",
    "\n",
    "agrupado_porLat = sinasc_raw.groupby('latitude_munRes').agg(agg_funcs)\n",
    "print(agrupado_porLat)"
   ]
  },
  {
   "cell_type": "markdown",
   "metadata": {
    "id": "AK33D0mdlTuE"
   },
   "source": [
    "### 2. Crie 2 faixas da área dos municípios (munResArea) sendo uma acima e outra abaixo de 3000 e aplique o groupby usando essas faixas como chave e realize operações de soma, media, minimo, maximo, mediana, desvio padrao, variancia pra pelo menos 2 variáveis numéricas ainda não utilizadas\n"
   ]
  },
  {
   "cell_type": "code",
   "execution_count": 99,
   "metadata": {
    "id": "qqCXJtYIlTuE"
   },
   "outputs": [
    {
     "name": "stdout",
     "output_type": "stream",
     "text": [
      "                IDADEPAI                                                     \\\n",
      "                     sum       mean       std   min   max        var median   \n",
      "area_MunRes                                                                   \n",
      "cidade_grande   158424.0  31.094014  7.818364  15.0  86.0  61.126809   30.0   \n",
      "cidade_pequena   78096.0  31.089172  7.676090  16.0  69.0  58.922352   30.0   \n",
      "\n",
      "                  APGAR5                                                  \n",
      "                     sum      mean       std  min   max       var median  \n",
      "area_MunRes                                                               \n",
      "cidade_grande   199579.0  9.190836  0.787591  0.0  10.0  0.620299    9.0  \n",
      "cidade_pequena   47570.0  9.130518  0.801138  0.0  10.0  0.641821    9.0  \n"
     ]
    }
   ],
   "source": [
    "sinasc_raw['area_MunRes'] = np.where(sinasc_raw['munResArea'] > 3000, 'cidade_grande', 'cidade_pequena')\n",
    "aggfunc_area = {'IDADEPAI': ['sum', 'mean', 'std', 'min', 'max', 'var', 'median'],\n",
    "                'APGAR5': ['sum', 'mean', 'std', 'min', 'max', 'var', 'median']}\n",
    "\n",
    "agrupamento_tamanhoMun = sinasc_raw.groupby('area_MunRes').agg(aggfunc_area)\n",
    "print(agrupamento_tamanhoMun)"
   ]
  },
  {
   "cell_type": "markdown",
   "metadata": {
    "id": "aWaljnnxlTuE"
   },
   "source": [
    "### 3. Determine faixas na variável munResAlt e aplique o groupby usando essas faixas como chave e realize operações de soma, media, minimo, maximo, mediana, desvio padrao, variancia pra pelo menos 2 variáveis numéricas ainda não utilizadas"
   ]
  },
  {
   "cell_type": "code",
   "execution_count": 102,
   "metadata": {},
   "outputs": [
    {
     "name": "stdout",
     "output_type": "stream",
     "text": [
      "munResAlt\n",
      "87.0     8437\n",
      "157.0    2182\n",
      "139.0    1729\n",
      "595.0    1590\n",
      "177.0    1374\n",
      "227.0     927\n",
      "163.0     881\n",
      "186.0     784\n",
      "133.0     781\n",
      "263.0     687\n",
      "252.0     631\n",
      "153.0     583\n",
      "144.0     500\n",
      "151.0     432\n",
      "191.0     417\n",
      "338.0     367\n",
      "85.0      337\n",
      "178.0     304\n",
      "166.0     303\n",
      "259.0     261\n",
      "145.0     233\n",
      "128.0     226\n",
      "419.0     214\n",
      "111.0     205\n",
      "182.0     205\n",
      "155.0     199\n",
      "197.0     170\n",
      "206.0     166\n",
      "212.0     164\n",
      "340.0     162\n",
      "397.0     154\n",
      "269.0     127\n",
      "202.0     112\n",
      "99.0      109\n",
      "241.0     104\n",
      "265.0      99\n",
      "230.0      98\n",
      "192.0      97\n",
      "158.0      93\n",
      "266.0      84\n",
      "154.0      81\n",
      "236.0      80\n",
      "161.0      75\n",
      "270.0      54\n",
      "124.0      50\n",
      "296.0      44\n",
      "245.0      43\n",
      "170.0      40\n",
      "215.0      32\n",
      "Name: count, dtype: int64\n",
      "                        PESO                                      \\\n",
      "                         sum         mean         std  min   max   \n",
      "altitude_munRes                                                    \n",
      "região_de_planicie  79600169  3243.558494  544.179495  285  5985   \n",
      "região_montanhosa    8056788  3239.560917  550.489205  258  4980   \n",
      "\n",
      "                                             APGAR1                           \\\n",
      "                              var  median       sum      mean       std  min   \n",
      "altitude_munRes                                                                \n",
      "região_de_planicie  296131.323117  3270.0  198783.0  8.129187  0.997767  0.0   \n",
      "região_montanhosa   303038.364650  3280.0   20375.0  8.219040  0.843735  0.0   \n",
      "\n",
      "                                           \n",
      "                     max       var median  \n",
      "altitude_munRes                            \n",
      "região_de_planicie  10.0  0.995538    8.0  \n",
      "região_montanhosa   10.0  0.711889    8.0  \n"
     ]
    }
   ],
   "source": [
    "print(sinasc_raw['munResAlt'].value_counts())\n",
    "#Usamos os value_counts para definir uma divisão por altitude que seja pertinente.\n",
    "sinasc_raw['altitude_munRes'] = np.where(sinasc_raw['munResAlt'] > 300, 'região_montanhosa', 'região_de_planicie')\n",
    "#Definimos as colunas e as funções que serão aplicadas nelas:\n",
    "aggfunc_altitude = {'PESO': ['sum', 'mean', 'std', 'min', 'max', 'var', 'median'],\n",
    "                   'APGAR1': ['sum', 'mean', 'std', 'min', 'max', 'var', 'median']}\n",
    "\n",
    "agrupamento_porAlt = sinasc_raw.groupby('altitude_munRes').agg(aggfunc_altitude)\n",
    "print(agrupamento_porAlt)\n",
    "\n",
    "\n",
    "# Algo interessante é que os bebês nascidos na nossa região de planície parecem der bem maiores que os\n",
    "# bebês nascidos na região montanhosa, pois tanto o maior peso máximo quanto o peso mínimo se encontram\n",
    "# nesta divisão."
   ]
  },
  {
   "cell_type": "markdown",
   "metadata": {
    "id": "aF1riawJlTuF"
   },
   "source": [
    "### 4. Plote no mesmo grafico ao longo do tempo a idade media das mulheres de cada regiao imediatas de rondonia\n"
   ]
  },
  {
   "cell_type": "code",
   "execution_count": null,
   "metadata": {
    "id": "6aZM5xKale9c"
   },
   "outputs": [],
   "source": [
    "imediatas = {\n",
    "    \"Candeias do Jamari\": \"Porto Velho\",\n",
    "    \"Guajará-Mirim\": \"Porto Velho\",\n",
    "    \"Itapuã do Oeste\": \"Porto Velho\",\n",
    "    \"Nova Mamoré\": \"Porto Velho\",\n",
    "    \"Porto Velho\": \"Porto Velho\",\n",
    "    \"Ariquemes\": \"Ariquemes\",\n",
    "    \"Alto Paraíso\": \"Ariquemes\",\n",
    "    \"Buritis\": \"Ariquemes\",\n",
    "    \"Cacaulândia\": \"Ariquemes\",\n",
    "    \"Campo Novo de Rondônia\": \"Ariquemes\",\n",
    "    \"Cujubim\": \"Ariquemes\",\n",
    "    \"Monte Negro\": \"Ariquemes\",\n",
    "    \"Rio Crespo\": \"Ariquemes\",\n",
    "    \"Jaru\": \"Jaru\",\n",
    "    \"Governador Jorge Teixeira\": \"Jaru\",\n",
    "    \"Machadinho D'Oeste\": \"Jaru\",\n",
    "    \"Theobroma\": \"Jaru\",\n",
    "    \"Vale do Anari\": \"Jaru\",\n",
    "    \"Alvorada D'Oeste\": \"Ji-Paraná\",\n",
    "    \"Costa Marques\": \"Ji-Paraná\",\n",
    "    \"Ji-Paraná\": \"Ji-Paraná\",\n",
    "    \"Mirante da Serra\": \"Ji-Paraná\",\n",
    "    \"Nova União\": \"Ji-Paraná\",\n",
    "    \"Ouro Preto do Oeste\": \"Ji-Paraná\",\n",
    "    \"Presidente Médici\": \"Ji-Paraná\",\n",
    "    \"São Francisco do Guaporé\": \"Ji-Paraná\",\n",
    "    \"São Miguel do Guaporé\": \"Ji-Paraná\",\n",
    "    \"Seringueiras\": \"Ji-Paraná\",\n",
    "    \"Teixeirópolis\": \"Ji-Paraná\",\n",
    "    \"Urupá\": \"Ji-Paraná\",\n",
    "    \"Vale do Paraíso\": \"Ji-Paraná\",\n",
    "    \"Cacoal\": \"Cacoal\",\n",
    "    \"Alta Floresta D'Oeste\": \"Cacoal\",\n",
    "    \"Alto Alegre dos Parecis\": \"Cacoal\",\n",
    "    \"Castanheiras\": \"Cacoal\",\n",
    "    \"Espigão D'Oeste\": \"Cacoal\",\n",
    "    \"Ministro Andreazza\": \"Cacoal\",\n",
    "    \"Nova Brasilândia D'Oeste\": \"Cacoal\",\n",
    "    \"Novo Horizonte do Oeste\": \"Cacoal\",\n",
    "    \"Parecis\": \"Cacoal\",\n",
    "    \"Pimenta Bueno\": \"Cacoal\",\n",
    "    \"Primavera de Rondônia\": \"Cacoal\",\n",
    "    \"Rolim de Moura\": \"Cacoal\",\n",
    "    \"Santa Luzia D'Oeste\": \"Cacoal\",\n",
    "    \"São Felipe D'Oeste\": \"Cacoal\",\n",
    "    \"Vilhena\": \"Vilhena\",\n",
    "    \"Cabixi\": \"Vilhena\",\n",
    "    \"Cerejeiras\": \"Vilhena\",\n",
    "    \"Chupinguaia\": \"Vilhena\",\n",
    "    \"Colorado do Oeste\": \"Vilhena\",\n",
    "    \"Corumbiara\": \"Vilhena\",\n",
    "    \"Pimenteiras do Oeste\": \"Vilhena\"\n",
    "}\n",
    "\n",
    "\n",
    "sinasc_raw['regiao_imediata'] = sinasc_raw['munResNome'].map(imediatas)\n",
    "sinasc_raw['DTNASC'] = pd.to_datetime(sinasc_raw['DTNASC'])\n",
    "sinasc_raw['DTNASC'] = sinasc_raw['DTNASC'].dt.to_period('M')\n",
    "aggfunc_regioes = {'IDADEMAE':'mean'}\n",
    "agrupamento_regiaoImediata = sinasc_raw.groupby(['DTNASC', 'regiao_imediata']).agg(aggfunc_regioes).reset_index()\n",
    "agrupamento_regiaoImediata['DTNASC'] = agrupamento_regiaoImediata['DTNASC'].dt.to_timestamp()\n",
    "pivoted = agrupamento_regiaoImediata.pivot(index='DTNASC', columns='regiao_imediata', values='IDADEMAE')\n",
    "pivoted.plot(kind='line', figsize=(10,6), marker='o')\n",
    "plt.title('Idade média das mães ao longo do ano, por regiao imediata')\n",
    "plt.xlabel('Ano')\n",
    "plt.ylabel('IDADE MEDIA')\n",
    "plt.show()"
   ]
  },
  {
   "cell_type": "markdown",
   "metadata": {
    "id": "yt-LIWxblTuF"
   },
   "source": [
    "### 5. Utilize a tabela do link abaixo e crie faixas utilizando o mapping e gere agrupamentos utilizando essas faixas como chave\n"
   ]
  },
  {
   "cell_type": "markdown",
   "metadata": {
    "id": "moZakjgIlTuF"
   },
   "source": [
    "### 5.1 IDH\n",
    "A - https://pt.wikipedia.org/wiki/Lista_de_munic%C3%ADpios_de_Rond%C3%B4nia_por_IDH-M\n"
   ]
  },
  {
   "cell_type": "code",
   "execution_count": 168,
   "metadata": {
    "id": "DaJk66_BlTuF"
   },
   "outputs": [
    {
     "name": "stdout",
     "output_type": "stream",
     "text": [
      "                    municipio       regiao    idh    ifdm       pib nivel_idh\n",
      "0       Alta Floresta D'Oeste       Cacoal  0.641  0.6337    496000     medio\n",
      "1     Alto Alegre dos Parecis       Cacoal  0.592  0.5046    213410     medio\n",
      "2                Alto Paraíso    Ariquemes  0.625  0.5735    358000     medio\n",
      "3            Alvorada D'Oeste    Ji-Paraná  0.643  0.5919    204098     medio\n",
      "4                   Ariquemes    Ariquemes  0.702  0.7746   2579830      alto\n",
      "5                     Buritis    Ariquemes  0.616  0.6199    726000     medio\n",
      "6                      Cabixi      Vilhena  0.650  0.5887    113031     medio\n",
      "7                 Cacaulândia    Ariquemes  0.646  0.5721    116635     medio\n",
      "8                      Cacoal       Cacoal  0.718  0.7111   2261644      alto\n",
      "9      Campo Novo de Rondônia    Ariquemes  0.593  0.5272    208821     medio\n",
      "10         Candeias do Jamari  Porto Velho  0.649  0.6199    548000     medio\n",
      "11               Castanheiras       Cacoal  0.658  0.5430     59779     medio\n",
      "12                 Cerejeiras      Vilhena  0.692  0.6137    507000     medio\n",
      "13                Chupinguaia      Vilhena  0.652  0.6766    190331     medio\n",
      "14          Colorado do Oeste      Vilhena  0.685  0.6473    335000     medio\n",
      "15                 Corumbiara      Vilhena  0.613  0.5759    188218     medio\n",
      "16              Costa Marques    Ji-Paraná  0.611  0.5626    171878     medio\n",
      "17                    Cujubim    Ariquemes  0.612  0.5055    385000     medio\n",
      "18            Espigão D'Oeste       Cacoal  0.672  0.5973    625000     medio\n",
      "19  Governador Jorge Teixeira         Jaru  0.596  0.4562    148027     medio\n",
      "20              Guajará-Mirim  Porto Velho  0.657  0.5541    893000     medio\n",
      "21            Itapuã do Oeste  Porto Velho  0.614  0.5903    129351     medio\n",
      "22                       Jaru         Jaru  0.689  0.6450   1500890     medio\n",
      "23                  Ji-Paraná    Ji-Paraná  0.714  0.7117   3783972      alto\n",
      "24         Machadinho D'Oeste         Jaru  0.596  0.5322    633000     medio\n",
      "25         Ministro Andreazza       Cacoal  0.638  0.5657    174633     medio\n",
      "26           Mirante da Serra    Ji-Paraná  0.643  0.5519    163955     medio\n",
      "27                Monte Negro    Ariquemes  0.607  0.6016    219152     medio\n",
      "28   Nova Brasilândia D'Oeste       Cacoal  0.643  0.5857    360000     medio\n",
      "29                Nova Mamoré  Porto Velho  0.587  0.5084    529000     medio\n",
      "30                 Nova União    Ji-Paraná  0.587  0.5571     92346     medio\n",
      "31    Novo Horizonte do Oeste       Cacoal  0.634  0.5858    129399     medio\n",
      "32        Ouro Preto do Oeste    Ji-Paraná  0.682  0.6261    834000     medio\n",
      "33                    Parecis       Cacoal  0.617  0.5502     80759     medio\n",
      "34              Pimenta Bueno       Cacoal  0.710  0.7383   1164877      alto\n",
      "35       Pimenteiras do Oeste      Vilhena  0.665  0.6501     76756     medio\n",
      "36                Porto Velho  Porto Velho  0.736  0.7257  17912070      alto\n",
      "37          Presidente Médici    Ji-Paraná  0.664  0.6140    428000     medio\n",
      "38      Primavera de Rondônia       Cacoal  0.641  0.6384     52908     medio\n",
      "39                 Rio Crespo    Ariquemes  0.643  0.6430     76854     medio\n",
      "40             Rolim de Moura       Cacoal  0.700  0.6785   1283434     medio\n",
      "41        Santa Luzia D'Oeste       Cacoal  0.670  0.6850    135934     medio\n",
      "42         São Felipe D'Oeste       Cacoal  0.649  0.6153     72084     medio\n",
      "43   São Francisco do Guaporé    Ji-Paraná  0.611  0.6214    353000     medio\n",
      "44      São Miguel do Guaporé    Ji-Paraná  0.646  0.6699    616000     medio\n",
      "45               Seringueiras    Ji-Paraná  0.598  0.5922    169429     medio\n",
      "46              Teixeirópolis    Ji-Paraná  0.643  0.6500     72089     medio\n",
      "47                  Theobroma         Jaru  0.589  0.5405    140601     medio\n",
      "48                      Urupá    Ji-Paraná  0.609  0.6006    172143     medio\n",
      "49              Vale do Anari         Jaru  0.584  0.5710    105208     medio\n",
      "50            Vale do Paraíso    Ji-Paraná  0.627  0.5818    116742     medio\n",
      "51                    Vilhena      Vilhena  0.731  0.7465   2831175      alto\n",
      "             APGAR1\n",
      "nivel_idh          \n",
      "alto       8.177316\n",
      "medio      8.080192\n"
     ]
    },
    {
     "name": "stderr",
     "output_type": "stream",
     "text": [
      "C:\\Users\\Matheus\\AppData\\Local\\Temp\\ipykernel_29048\\3414354786.py:9: FutureWarning: The default of observed=False is deprecated and will be changed to True in a future version of pandas. Pass observed=False to retain current behavior or observed=True to adopt the future default and silence this warning.\n",
      "  agrupamento_idh = dados_ro.groupby('nivel_idh')\n"
     ]
    }
   ],
   "source": [
    "dados_ro = pd.read_csv('dados_extras_ro.csv', sep=';', encoding='latin_1')\n",
    "regioes_map = dict(zip(dados_ro['municipio'], dados_ro['regiao']))\n",
    "\n",
    "bins = [0, .550, .7, .8]\n",
    "labels = ['baixo', 'medio', 'alto']\n",
    "#não precisamos incluir muito alto, nem o intervalo .8 até 1, pois na lista não existe IDH maior que .8\n",
    "\n",
    "dados_ro['nivel_idh'] = pd.cut(dados_ro['idh'], bins = bins, labels = labels)\n",
    "agrupamento_idh = dados_ro.groupby('nivel_idh')\n",
    "print(dados_ro)\n",
    "dicionario_idh = dados_ro.set_index('municipio')['nivel_idh'].to_dict()\n",
    "sinasc_raw['nivel_idh'] = sinasc_raw['munResNome'].map(dicionario_idh)\n",
    "\n",
    "aggfunc_idh = {'APGAR1': 'mean'}\n",
    "agrupamento_idh = sinasc_raw.groupby('nivel_idh').agg(aggfunc_idh)\n",
    "print(agrupamento_idh)\n",
    "\n",
    "# Um insight interessante que conseguimos extrair daqui é que os bebês que moral em regiões com IDH alto possuem um apgar1 ligeiramente menor do que \n",
    "# aqueles que nascem nas zonas de IDH medio..."
   ]
  },
  {
   "cell_type": "markdown",
   "metadata": {
    "id": "zhtI6CxtlTuH"
   },
   "source": [
    "### 5.2 IFDM\n",
    "B - https://pt.wikipedia.org/wiki/Lista_de_munic%C3%ADpios_de_Rond%C3%B4nia_por_IFDM\n"
   ]
  },
  {
   "cell_type": "code",
   "execution_count": 184,
   "metadata": {
    "id": "1AVkd1M3lTuI"
   },
   "outputs": [
    {
     "name": "stdout",
     "output_type": "stream",
     "text": [
      "               APGAR5\n",
      "indice_ifdm          \n",
      "moderado     9.185394\n",
      "regular      9.152066\n"
     ]
    }
   ],
   "source": [
    "bins = [0, .4, .6, .8, 1]\n",
    "labels = ['baixo', 'regular', 'moderado', 'alto']\n",
    "dados_ro['indice_ifdm'] = pd.cut(dados_ro['ifdm'], bins = bins, labels = labels)\n",
    "\n",
    "dicionario_ifdm = dados_ro.set_index('municipio')['indice_ifdm'].to_dict()\n",
    "\n",
    "sinasc_raw['indice_ifdm'] = sinasc_raw['munResNome'].map(dicionario_ifdm)\n",
    "\n",
    "agrupamento_ifdm = sinasc_raw.groupby('indice_ifdm').agg({'APGAR5': 'mean'})\n",
    "print(agrupamento_ifdm)\n",
    "\n",
    "# Novamente, agora com relação ao APGAR5 e o índice ifdm, vemos que existe um aumento da média do APGAR5 quando o indice IFDM melhora..."
   ]
  },
  {
   "cell_type": "markdown",
   "metadata": {
    "id": "BwdS46EWlTuI"
   },
   "source": [
    "### 5.3 PIB\n",
    "C - https://pt.wikipedia.org/wiki/Lista_de_munic%C3%ADpios_de_Rond%C3%B4nia_por_PIB\n"
   ]
  },
  {
   "cell_type": "code",
   "execution_count": 210,
   "metadata": {},
   "outputs": [
    {
     "name": "stdout",
     "output_type": "stream",
     "text": [
      "                     APGAR5    APGAR1\n",
      "tamanho_municipio                    \n",
      "grande             9.078275  7.955295\n",
      "media              9.265193  8.110497\n",
      "megapolis          9.166223  8.167346\n",
      "muito grande       9.272004  8.156886\n",
      "muito pequena      9.132251  7.969838\n",
      "pequena            9.168210  8.045782\n"
     ]
    }
   ],
   "source": [
    "bins = [0, 100000, 200000, 300000, 500000, 1000000, float('inf')]\n",
    "#aqui, como sabemos, o PIB não mede o desenvolvimento de uma cidade, mas sim, em última instância, o quão \"grande\" ela é, pois uma cidade, mesmo pobre\n",
    "#se tiver suficientes habitantes, terá um PIB alto, visto que estamos falando de PIB e não de PIB per Capita... então, nossos labels serão:\n",
    "labels = ['muito pequena', 'pequena', 'media', 'grande', 'muito grande', 'megapolis']\n",
    "dados_ro['tamanho_municipio'] = pd.cut(dados_ro['pib'], bins = bins, labels = labels)\n",
    "dicionario_tamanhoMun = dados_ro.set_index('municipio')['tamanho_municipio'].to_dict()\n",
    "\n",
    "sinasc_raw['tamanho_municipio'] = sinasc_raw['munResNome'].map(dicionario_tamanhoMun)\n",
    "aggfunc_tamanhoMun = {'APGAR5': 'mean', 'APGAR1': 'mean'}\n",
    "agrupamento_tamanho = sinasc_raw.groupby('tamanho_municipio').agg(aggfunc_tamanhoMun)\n",
    "print(agrupamento_tamanho)"
   ]
  },
  {
   "cell_type": "markdown",
   "metadata": {},
   "source": [
    "O que podemos ver é que aparentemente, com relação ao tamanho das cidades, não existe um padrão claro de o tamanho favorecer ou desfavorecer a media do apgar5 ou do apgar1. O apgar se mostra baixo em cidades grandes, assim como em cidades muito pequenas, aparentando não ter nenhum padrão. No entanto, são especificamente estas duas categorias que demonstram tanto o APGAR1 quanto o APGAR5 mais baixos..."
   ]
  },
  {
   "cell_type": "markdown",
   "metadata": {
    "id": "bdWGW_xtlTuI"
   },
   "source": [
    "### Analise as respostas encontradas, tire algum insight delas, conte pra gente algo encontrado nos dados."
   ]
  },
  {
   "cell_type": "markdown",
   "metadata": {
    "id": "shZvokfBlTuI"
   },
   "source": [
    "Exemplo:\n",
    "- Ah, descobri que a idade mediana das mulheres que deram a luz no ano de 2019 dos municipios com o PIB mais alto é a maior dentre todas."
   ]
  },
  {
   "cell_type": "markdown",
   "metadata": {
    "id": "f8P7BYYglTuJ"
   },
   "source": [
    "O que pudemos ver é que o nível de IDH mais alto, favorece um APGAR1 maior, e que o índice IFDM mais alto, favorece o APGAR5 mais alto. Agora, já a quantidade do PIB, parece ser uma métrica no mínimo \"confusa\" para se verificar os índices de saúde dos bebês..."
   ]
  }
 ],
 "metadata": {
  "colab": {
   "provenance": []
  },
  "kernelspec": {
   "display_name": "Python 3 (ipykernel)",
   "language": "python",
   "name": "python3"
  },
  "language_info": {
   "codemirror_mode": {
    "name": "ipython",
    "version": 3
   },
   "file_extension": ".py",
   "mimetype": "text/x-python",
   "name": "python",
   "nbconvert_exporter": "python",
   "pygments_lexer": "ipython3",
   "version": "3.12.4"
  },
  "varInspector": {
   "cols": {
    "lenName": 16,
    "lenType": 16,
    "lenVar": 40
   },
   "kernels_config": {
    "python": {
     "delete_cmd_postfix": "",
     "delete_cmd_prefix": "del ",
     "library": "var_list.py",
     "varRefreshCmd": "print(var_dic_list())"
    },
    "r": {
     "delete_cmd_postfix": ") ",
     "delete_cmd_prefix": "rm(",
     "library": "var_list.r",
     "varRefreshCmd": "cat(var_dic_list()) "
    }
   },
   "types_to_exclude": [
    "module",
    "function",
    "builtin_function_or_method",
    "instance",
    "_Feature"
   ],
   "window_display": false
  }
 },
 "nbformat": 4,
 "nbformat_minor": 4
}
